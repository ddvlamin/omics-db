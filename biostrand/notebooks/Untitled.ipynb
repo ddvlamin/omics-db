{
 "cells": [
  {
   "cell_type": "code",
   "execution_count": 1,
   "id": "1cb7d1a5",
   "metadata": {},
   "outputs": [],
   "source": [
    "from pymilvus_orm import connections, FieldSchema, CollectionSchema, DataType, Collection\n",
    "import h5py\n",
    "import pymilvus_orm\n"
   ]
  },
  {
   "cell_type": "code",
   "execution_count": 2,
   "id": "9fa35a3a",
   "metadata": {},
   "outputs": [],
   "source": [
    "files = [\"./data/pdbaa-1.h5\",\"./data/pdbaa-2.h5\"]\n",
    "f = h5py.File(files[0], 'r')"
   ]
  },
  {
   "cell_type": "code",
   "execution_count": 3,
   "id": "ac1a54fe",
   "metadata": {},
   "outputs": [],
   "source": [
    "query_file = \"./data/2.60.40.10.h5\"\n",
    "query_vector = list(h5py.File(query_file, 'r')[\"3kdmA02\"])"
   ]
  },
  {
   "cell_type": "code",
   "execution_count": 4,
   "id": "bbfd6c4d",
   "metadata": {},
   "outputs": [
    {
     "data": {
      "text/plain": [
       "<pymilvus.client.stub.Milvus at 0x124e46b20>"
      ]
     },
     "execution_count": 4,
     "metadata": {},
     "output_type": "execute_result"
    }
   ],
   "source": [
    "connections.connect(host='localhost', port='19530')"
   ]
  },
  {
   "cell_type": "code",
   "execution_count": 6,
   "id": "76ea8ce4",
   "metadata": {},
   "outputs": [],
   "source": [
    "collection_name = \"pdb\"\n",
    "Collection(name=collection_name).drop()"
   ]
  },
  {
   "cell_type": "code",
   "execution_count": 6,
   "id": "9be38a2e",
   "metadata": {},
   "outputs": [],
   "source": [
    "dim = 6165\n",
    "\n",
    "fields = [\n",
    "    FieldSchema(name=\"enumerate_id\", dtype=DataType.INT64, is_primary=True),\n",
    "    #FieldSchema(name=\"sequence_id\", dtype=DataType.STRING),\n",
    "    FieldSchema(name=\"sequence_vector\", dtype=DataType.FLOAT_VECTOR, dim=dim)\n",
    "]\n",
    "schema = CollectionSchema(fields=fields, description=\"omics vectors\")"
   ]
  },
  {
   "cell_type": "code",
   "execution_count": 7,
   "id": "c4fe613e",
   "metadata": {},
   "outputs": [],
   "source": [
    "collection = Collection(name=collection_name, schema=schema)"
   ]
  },
  {
   "cell_type": "code",
   "execution_count": 8,
   "id": "fb9ede0b",
   "metadata": {},
   "outputs": [],
   "source": [
    "batch = [[],[]]\n",
    "for j, key in enumerate(f.keys()):\n",
    "    batch[0].append(j)\n",
    "    batch[1].append([float(i) for i in f[key]])\n",
    "    if len(batch[0]) >= 1000:\n",
    "        collection.insert(batch)\n",
    "        batch = [[],[]]\n",
    "        break"
   ]
  },
  {
   "cell_type": "code",
   "execution_count": 9,
   "id": "b48fc405",
   "metadata": {},
   "outputs": [
    {
     "data": {
      "text/plain": [
       "Status(code=0, message='')"
      ]
     },
     "execution_count": 9,
     "metadata": {},
     "output_type": "execute_result"
    }
   ],
   "source": [
    "collection.create_index(field_name=\"sequence_vector\",\n",
    "                        index_params={'index_type': 'IVF_FLAT',\n",
    "                                      'metric_type': 'IP',\n",
    "                                      'params': {\n",
    "                                        'nlist': 100      # int. 1~65536\n",
    "                                      }})\n"
   ]
  },
  {
   "cell_type": "code",
   "execution_count": 10,
   "id": "60b4a06a",
   "metadata": {},
   "outputs": [
    {
     "data": {
      "text/plain": [
       "['pdb']"
      ]
     },
     "execution_count": 10,
     "metadata": {},
     "output_type": "execute_result"
    }
   ],
   "source": [
    "connections.get_connection(\"default\").list_collections()"
   ]
  },
  {
   "cell_type": "code",
   "execution_count": 11,
   "id": "39293ac7",
   "metadata": {},
   "outputs": [
    {
     "data": {
      "text/plain": [
       "1000"
      ]
     },
     "execution_count": 11,
     "metadata": {},
     "output_type": "execute_result"
    }
   ],
   "source": [
    "connections.get_connection(\"default\").flush([collection_name])\n",
    "collection.num_entities"
   ]
  },
  {
   "cell_type": "code",
   "execution_count": 9,
   "id": "906a66ee",
   "metadata": {},
   "outputs": [],
   "source": [
    "collection.load()"
   ]
  },
  {
   "cell_type": "code",
   "execution_count": 10,
   "id": "2c5e5f8d",
   "metadata": {},
   "outputs": [],
   "source": []
  },
  {
   "cell_type": "code",
   "execution_count": 11,
   "id": "415d5821",
   "metadata": {},
   "outputs": [
    {
     "data": {
      "text/plain": [
       "1000"
      ]
     },
     "execution_count": 11,
     "metadata": {},
     "output_type": "execute_result"
    }
   ],
   "source": []
  },
  {
   "cell_type": "code",
   "execution_count": 14,
   "id": "47b4f7d3",
   "metadata": {},
   "outputs": [],
   "source": [
    "topK = 50\n",
    "search_params = {\"metric_type\": \"IP\", \"params\": {\"nprobe\": 1}}\n",
    "# define output_fields of search result\n",
    "res = collection.search(\n",
    "    [query_vector], \"sequence_vector\", search_params, topK,\n",
    "    \"\", output_fields=[\"enumerate_id\"]\n",
    ")"
   ]
  },
  {
   "cell_type": "code",
   "execution_count": 15,
   "id": "c4f88386",
   "metadata": {},
   "outputs": [
    {
     "name": "stdout",
     "output_type": "stream",
     "text": [
      "id = 624, distance = 52.20811462402344\n",
      "id = 282, distance = 52.20811462402344\n",
      "id = 626, distance = 52.20811462402344\n",
      "id = 284, distance = 52.20811462402344\n",
      "id = 286, distance = 52.20811462402344\n",
      "id = 783, distance = 51.29606246948242\n",
      "id = 800, distance = 51.29606246948242\n",
      "id = 781, distance = 51.29606246948242\n",
      "id = 464, distance = 47.139957427978516\n",
      "id = 467, distance = 47.139957427978516\n",
      "id = 941, distance = 47.114200592041016\n",
      "id = 939, distance = 47.114200592041016\n",
      "id = 936, distance = 47.0709342956543\n",
      "id = 471, distance = 47.063777923583984\n",
      "id = 468, distance = 47.063777923583984\n",
      "id = 233, distance = 46.66118621826172\n",
      "id = 955, distance = 46.42018127441406\n",
      "id = 958, distance = 46.42018127441406\n",
      "id = 608, distance = 46.286231994628906\n",
      "id = 606, distance = 46.286231994628906\n",
      "id = 101, distance = 46.086082458496094\n",
      "id = 982, distance = 45.73291778564453\n",
      "id = 713, distance = 45.728111267089844\n",
      "id = 714, distance = 45.728111267089844\n",
      "id = 54, distance = 45.7249755859375\n",
      "id = 53, distance = 45.7249755859375\n",
      "id = 530, distance = 45.71901321411133\n",
      "id = 415, distance = 45.68801498413086\n",
      "id = 402, distance = 45.61434555053711\n",
      "id = 913, distance = 44.20526123046875\n",
      "id = 914, distance = 44.20526123046875\n",
      "id = 414, distance = 43.51289367675781\n",
      "id = 529, distance = 43.360374450683594\n",
      "id = 980, distance = 43.232994079589844\n",
      "id = 609, distance = 43.20501708984375\n",
      "id = 607, distance = 43.20501708984375\n",
      "id = 100, distance = 43.18858337402344\n",
      "id = 935, distance = 43.16026306152344\n",
      "id = 940, distance = 43.09189224243164\n",
      "id = 942, distance = 43.09189224243164\n",
      "id = 232, distance = 43.03961944580078\n",
      "id = 469, distance = 42.947608947753906\n",
      "id = 466, distance = 42.947608947753906\n",
      "id = 465, distance = 42.947608947753906\n",
      "id = 470, distance = 42.947608947753906\n",
      "id = 55, distance = 42.76251220703125\n",
      "id = 52, distance = 42.76251220703125\n",
      "id = 956, distance = 42.5108642578125\n",
      "id = 957, distance = 42.5108642578125\n",
      "id = 401, distance = 42.46726608276367\n"
     ]
    }
   ],
   "source": [
    "for result in res:\n",
    "    for id, dis in zip(result.ids, result.distances):\n",
    "        print(f\"id = {id}, distance = {dis}\")"
   ]
  },
  {
   "cell_type": "code",
   "execution_count": 70,
   "id": "ce58ad2f",
   "metadata": {},
   "outputs": [],
   "source": [
    "connections.disconnect(\"default\")"
   ]
  },
  {
   "cell_type": "code",
   "execution_count": 40,
   "id": "06a11508",
   "metadata": {},
   "outputs": [],
   "source": [
    "collection.drop()"
   ]
  },
  {
   "cell_type": "code",
   "execution_count": null,
   "id": "5dc80305",
   "metadata": {},
   "outputs": [],
   "source": []
  },
  {
   "cell_type": "code",
   "execution_count": null,
   "id": "b3048dd9",
   "metadata": {},
   "outputs": [],
   "source": []
  }
 ],
 "metadata": {
  "kernelspec": {
   "display_name": "Python 3",
   "language": "python",
   "name": "python3"
  },
  "language_info": {
   "codemirror_mode": {
    "name": "ipython",
    "version": 3
   },
   "file_extension": ".py",
   "mimetype": "text/x-python",
   "name": "python",
   "nbconvert_exporter": "python",
   "pygments_lexer": "ipython3",
   "version": "3.9.0"
  }
 },
 "nbformat": 4,
 "nbformat_minor": 5
}
